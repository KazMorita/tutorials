{
 "cells": [
  {
   "cell_type": "markdown",
   "id": "5a571ecb",
   "metadata": {},
   "source": [
    "# obtaining data from pymatgen"
   ]
  },
  {
   "cell_type": "code",
   "execution_count": 1,
   "id": "69b2428b",
   "metadata": {},
   "outputs": [],
   "source": [
    "import pymatgen\n",
    "import pymatgen.io.cif\n",
    "import pymatgen.ext.matproj"
   ]
  },
  {
   "cell_type": "code",
   "execution_count": null,
   "id": "a788a751",
   "metadata": {},
   "outputs": [],
   "source": [
    "# https://materialsproject.org/dashboard\n",
    "API_KEY=# your Materials project API"
   ]
  },
  {
   "cell_type": "code",
   "execution_count": 3,
   "id": "77692613",
   "metadata": {},
   "outputs": [],
   "source": [
    "request1 = pymatgen.ext.matproj.MPRester(api_key=API_KEY)"
   ]
  },
  {
   "cell_type": "markdown",
   "id": "e2c5002d-b925-4d3f-a982-f42c48777679",
   "metadata": {},
   "source": [
    "There are two ways of obtaining data I use.\n",
    "- Case1: used to obtain large amounts of data\n",
    "- Case2: used when I know which material I want to download"
   ]
  },
  {
   "cell_type": "markdown",
   "id": "3ef66617",
   "metadata": {},
   "source": [
    "## Case 1: obtaining many data"
   ]
  },
  {
   "cell_type": "code",
   "execution_count": 4,
   "id": "473c8dcb",
   "metadata": {},
   "outputs": [],
   "source": [
    "# uncomment for downloading all materials\n",
    "#space_group_list = list(range(1, 230 + 1))\n",
    "space_group_list = [221]\n",
    "\n",
    "# properties from: https://github.com/materialsproject/pymatgen/blob/v2022.01.09/pymatgen/ext/matproj.py#L94\n",
    "properties = ('energy', 'energy_per_atom', 'volume',\n",
    "              'formation_energy_per_atom', 'nsites',\n",
    "              'unit_cell_formula', 'pretty_formula',\n",
    "              'is_hubbard', 'elements', 'nelements',\n",
    "              'e_above_hull', 'hubbards', 'is_compatible',\n",
    "              'spacegroup', 'task_ids', 'band_gap', 'density',\n",
    "              'icsd_id', 'icsd_ids', 'cif', 'total_magnetization',\n",
    "              'material_id', 'oxide_type', 'tags', 'elasticity')\n"
   ]
  },
  {
   "cell_type": "code",
   "execution_count": 5,
   "id": "6842bb09",
   "metadata": {},
   "outputs": [
    {
     "name": "stdout",
     "output_type": "stream",
     "text": [
      "processing no. 221\n"
     ]
    },
    {
     "data": {
      "application/vnd.jupyter.widget-view+json": {
       "model_id": "e5fca5eb8e7d4dbe8a4590d60ee8e1e3",
       "version_major": 2,
       "version_minor": 0
      },
      "text/plain": [
       "  0%|          | 0/3255 [00:00<?, ?it/s]"
      ]
     },
     "metadata": {},
     "output_type": "display_data"
    }
   ],
   "source": [
    "all_entries = []\n",
    "for space_group_num in space_group_list:\n",
    "    print('processing no.', space_group_num)\n",
    "    all_entries.extend(request1.query(\n",
    "        criteria={'spacegroup.number': {'$in': [space_group_num]}},\n",
    "        properties=properties)\n",
    "    )"
   ]
  },
  {
   "cell_type": "code",
   "execution_count": 6,
   "id": "f9924f7a",
   "metadata": {},
   "outputs": [
    {
     "name": "stdout",
     "output_type": "stream",
     "text": [
      "size: 3255\n",
      "{'energy': -48.77006521, 'energy_per_atom': -6.967152172857142, 'volume': 66.86280762482289, 'formation_energy_per_atom': -0.020860104285713783, 'nsites': 7, 'unit_cell_formula': {'Zr': 1.0, 'B': 6.0}, 'pretty_formula': 'ZrB6', 'is_hubbard': False, 'elements': ['Zr', 'B'], 'nelements': 2, 'e_above_hull': 0.40229190380952495, 'hubbards': {}, 'is_compatible': True, 'spacegroup': {'symprec': 0.1, 'source': 'spglib', 'symbol': 'Pm-3m', 'number': 221, 'point_group': 'm-3m', 'crystal_system': 'cubic', 'hall': '-P 4 2 3'}, 'task_ids': ['mp-1001788', 'mp-1001792', 'mp-1001799', 'mp-1001800', 'mp-1392737', 'mp-1626070', 'mp-1757983'], 'band_gap': 0.0, 'density': 3.876498042977305, 'icsd_id': None, 'icsd_ids': [], 'cif': \"# generated using pymatgen\\ndata_ZrB6\\n_symmetry_space_group_name_H-M   'P 1'\\n_cell_length_a   4.05877400\\n_cell_length_b   4.05877400\\n_cell_length_c   4.05877400\\n_cell_angle_alpha   90.00000000\\n_cell_angle_beta   90.00000000\\n_cell_angle_gamma   90.00000000\\n_symmetry_Int_Tables_number   1\\n_chemical_formula_structural   ZrB6\\n_chemical_formula_sum   'Zr1 B6'\\n_cell_volume   66.86280762\\n_cell_formula_units_Z   1\\nloop_\\n _symmetry_equiv_pos_site_id\\n _symmetry_equiv_pos_as_xyz\\n  1  'x, y, z'\\nloop_\\n _atom_site_type_symbol\\n _atom_site_label\\n _atom_site_symmetry_multiplicity\\n _atom_site_fract_x\\n _atom_site_fract_y\\n _atom_site_fract_z\\n _atom_site_occupancy\\n  Zr  Zr0  1  0.00000000  0.00000000  0.00000000  1\\n  B  B1  1  0.19761400  0.50000000  0.50000000  1\\n  B  B2  1  0.50000000  0.50000000  0.80238600  1\\n  B  B3  1  0.50000000  0.50000000  0.19761400  1\\n  B  B4  1  0.50000000  0.19761400  0.50000000  1\\n  B  B5  1  0.50000000  0.80238600  0.50000000  1\\n  B  B6  1  0.80238600  0.50000000  0.50000000  1\\n\", 'total_magnetization': 0.0033827, 'material_id': 'mp-1001788', 'oxide_type': 'None', 'tags': ['Substituion'], 'elasticity': {'G_Reuss': 2.0, 'G_VRH': 41.0, 'G_Voigt': 79.0, 'G_Voigt_Reuss_Hill': 41.0, 'K_Reuss': 179.0, 'K_VRH': 179.0, 'K_Voigt': 179.0, 'K_Voigt_Reuss_Hill': 179.0, 'elastic_anisotropy': 245.48, 'elastic_tensor': [[442.0, 48.0, 48.0, 0.0, 0.0, 0.0], [48.0, 442.0, 48.0, 0.0, 0.0, 0.0], [48.0, 48.0, 442.0, 0.0, 0.0, 0.0], [0.0, 0.0, 0.0, 1.0, 0.0, 0.0], [0.0, 0.0, 0.0, 0.0, 1.0, 0.0], [0.0, 0.0, 0.0, 0.0, 0.0, 1.0]], 'homogeneous_poisson': 0.39, 'poisson_ratio': 0.39, 'universal_anisotropy': 245.48, 'elastic_tensor_original': [[442.0989690683539, 47.856092859029346, 47.856092859029346, 0.0, 0.0, 0.0], [47.862431797906815, 442.1112193069004, 47.862431797906815, 0.0, 0.0, 0.0], [47.86085024797294, 47.86085024797294, 442.10477429500264, 0.0, 0.0, 0.0], [-3.643994096157733e-05, 2.517329254885464e-05, 1.229998007262776e-05, 0.9543852937485742, 0.0, 0.0], [1.990996774053937e-05, -2.1646631595764495e-05, 9.846650714147162e-06, 0.0, 0.9542743739282818, 0.0], [-1.857996989985801e-05, -8.65331931293736e-06, 2.099329932107416e-05, 0.0, 0.0, 0.9542183673523544]], 'compliance_tensor': [[2.3, -0.2, -0.2, -0.0, 0.0, 0.0], [-0.2, 2.3, -0.2, 0.0, -0.0, 0.0], [-0.2, -0.2, 2.3, 0.0, 0.0, -0.0], [-0.0, 0.0, 0.0, 1047.9, -0.0, -0.0], [0.0, -0.0, 0.0, -0.0, 1047.9, -0.0], [0.0, 0.0, -0.0, -0.0, -0.0, 1047.9]], 'warnings': ['One or more K, G below 2 GPa'], 'nsites': 7}}\n"
     ]
    }
   ],
   "source": [
    "print(f'size: {len(all_entries)}')\n",
    "print(all_entries[0])"
   ]
  },
  {
   "cell_type": "markdown",
   "id": "56cc8d57",
   "metadata": {},
   "source": [
    "## Case 2: obtaining specified material(s)"
   ]
  },
  {
   "cell_type": "code",
   "execution_count": 7,
   "id": "c200d015",
   "metadata": {},
   "outputs": [],
   "source": [
    "single_entry=request1.get_entries(chemsys_formula_id_criteria='mp-1004524',inc_structure='initial')"
   ]
  },
  {
   "cell_type": "code",
   "execution_count": 8,
   "id": "4b61802d",
   "metadata": {},
   "outputs": [
    {
     "data": {
      "text/plain": [
       "[mp-1004524 ComputedStructureEntry - H1 Pb1 I3    (HPbI3)\n",
       " Energy (Uncorrected)     = -10.3529  eV (-2.0706  eV/atom)\n",
       " Correction               = -1.1370   eV (-0.2274  eV/atom)\n",
       " Energy (Final)           = -11.4899  eV (-2.2980  eV/atom)\n",
       " Energy Adjustments:\n",
       "   MP2020 anion correction (I): -1.1370   eV (-0.2274  eV/atom)\n",
       " Parameters:\n",
       "   run_type               = GGA\n",
       "   is_hubbard             = False\n",
       "   pseudo_potential       = {'functional': 'PBE', 'labels': ['H', 'Pb_d', 'I'], 'pot_type': 'paw'}\n",
       "   hubbards               = {}\n",
       "   potcar_symbols         = ['PBE H', 'PBE Pb_d', 'PBE I']\n",
       "   oxide_type             = None\n",
       " Data:\n",
       "   oxide_type             = None\n",
       "   oxidation_states       = {'H': 1.0, 'Pb': 2.0, 'I': -1.0}]"
      ]
     },
     "execution_count": 8,
     "metadata": {},
     "output_type": "execute_result"
    }
   ],
   "source": [
    "single_entry"
   ]
  },
  {
   "cell_type": "code",
   "execution_count": 9,
   "id": "196a7065",
   "metadata": {},
   "outputs": [
    {
     "data": {
      "text/plain": [
       "Structure Summary\n",
       "Lattice\n",
       "    abc : 6.244213 6.244213 6.244213\n",
       " angles : 90.0 90.0 90.0\n",
       " volume : 243.46308866936582\n",
       "      A : 6.244213 0.0 0.0\n",
       "      B : 0.0 6.244213 0.0\n",
       "      C : 0.0 0.0 6.244213\n",
       "PeriodicSite: H (3.1221, 3.1221, 3.1221) [0.5000, 0.5000, 0.5000]\n",
       "PeriodicSite: Pb (0.0000, 0.0000, 0.0000) [0.0000, 0.0000, 0.0000]\n",
       "PeriodicSite: I (0.0000, 0.0000, 3.1221) [0.0000, 0.0000, 0.5000]\n",
       "PeriodicSite: I (0.0000, 3.1221, 0.0000) [0.0000, 0.5000, 0.0000]\n",
       "PeriodicSite: I (3.1221, 0.0000, 0.0000) [0.5000, 0.0000, 0.0000]"
      ]
     },
     "execution_count": 9,
     "metadata": {},
     "output_type": "execute_result"
    }
   ],
   "source": [
    "single_entry[0].structure"
   ]
  },
  {
   "cell_type": "markdown",
   "id": "1db664e3",
   "metadata": {},
   "source": [
    "# Filtering octahedra"
   ]
  },
  {
   "cell_type": "code",
   "execution_count": 10,
   "id": "924eb582",
   "metadata": {},
   "outputs": [],
   "source": [
    "# struct=pymatgen.io.cif.CifParser.from_string(all_entries[0]['cif']).get_structures(primitive=False)[0]\n",
    "struct=single_entry[0].structure"
   ]
  },
  {
   "cell_type": "code",
   "execution_count": 11,
   "id": "39a0c4fa",
   "metadata": {},
   "outputs": [],
   "source": [
    "# define algorithm\n",
    "nearest_neighbour_finder = pymatgen.analysis.local_env.CrystalNN(\n",
    "    weighted_cn=False, cation_anion=False,\n",
    "    distance_cutoffs=[0.5, 1], x_diff_weight=3.0,\n",
    "    porous_adjustment=True, search_cutoff=7,\n",
    "    fingerprint_length=None)"
   ]
  },
  {
   "cell_type": "code",
   "execution_count": 12,
   "id": "e6b3beb4-ef7d-4d25-bae7-6a9b1a7e35c3",
   "metadata": {},
   "outputs": [
    {
     "data": {
      "text/plain": [
       "Structure Summary\n",
       "Lattice\n",
       "    abc : 6.244213 6.244213 6.244213\n",
       " angles : 90.0 90.0 90.0\n",
       " volume : 243.46308866936582\n",
       "      A : 6.244213 0.0 0.0\n",
       "      B : 0.0 6.244213 0.0\n",
       "      C : 0.0 0.0 6.244213\n",
       "PeriodicSite: H (3.1221, 3.1221, 3.1221) [0.5000, 0.5000, 0.5000]\n",
       "PeriodicSite: Pb (0.0000, 0.0000, 0.0000) [0.0000, 0.0000, 0.0000]\n",
       "PeriodicSite: I (0.0000, 0.0000, 3.1221) [0.0000, 0.0000, 0.5000]\n",
       "PeriodicSite: I (0.0000, 3.1221, 0.0000) [0.0000, 0.5000, 0.0000]\n",
       "PeriodicSite: I (3.1221, 0.0000, 0.0000) [0.5000, 0.0000, 0.0000]"
      ]
     },
     "execution_count": 12,
     "metadata": {},
     "output_type": "execute_result"
    }
   ],
   "source": [
    "struct"
   ]
  },
  {
   "cell_type": "markdown",
   "id": "043c9255-781e-44b7-99ab-e238cb9c58ad",
   "metadata": {},
   "source": [
    "## execute for a single site"
   ]
  },
  {
   "cell_type": "code",
   "execution_count": null,
   "id": "6fc5a2ec-0a72-4429-b767-e6bb8dc1eee9",
   "metadata": {},
   "outputs": [],
   "source": [
    "nearest_neighbour_finder.get_cn(structure=struct, n=1, use_weights=False)"
   ]
  },
  {
   "cell_type": "markdown",
   "id": "26172990-52eb-492f-8114-fbbca47d73b6",
   "metadata": {},
   "source": [
    "## execute for all the sites"
   ]
  },
  {
   "cell_type": "code",
   "execution_count": 14,
   "id": "32930a56-13eb-4dc0-b626-93c9d7a607f8",
   "metadata": {},
   "outputs": [],
   "source": [
    "def try_nearest_neighbour_finder_onlycoorenv(nearest_neighbour_finder, mp_struct):\n",
    "    list_coor_env = []\n",
    "\n",
    "    for i in range(mp_struct.num_sites):\n",
    "        try: # this call often fails\n",
    "            list_coor_env.append(nearest_neighbour_finder.get_cn(\n",
    "                structure=mp_struct, n=i, use_weights=False))\n",
    "        except ValueError:\n",
    "            print('values error skipping...')\n",
    "            list_coor_env.append(None)\n",
    "\n",
    "    return list_coor_env"
   ]
  },
  {
   "cell_type": "code",
   "execution_count": 15,
   "id": "1fcff5b8",
   "metadata": {},
   "outputs": [],
   "source": [
    "list_coor_env = try_nearest_neighbour_finder_onlycoorenv(nearest_neighbour_finder, struct)"
   ]
  },
  {
   "cell_type": "code",
   "execution_count": 16,
   "id": "b1de400a",
   "metadata": {},
   "outputs": [
    {
     "data": {
      "text/plain": [
       "[0, 6, 2, 2, 2]"
      ]
     },
     "execution_count": 16,
     "metadata": {},
     "output_type": "execute_result"
    }
   ],
   "source": [
    "list_coor_env"
   ]
  },
  {
   "cell_type": "markdown",
   "id": "4c6c0130",
   "metadata": {},
   "source": [
    "# Analyse distortions"
   ]
  },
  {
   "cell_type": "code",
   "execution_count": 17,
   "id": "e0a17cff",
   "metadata": {},
   "outputs": [],
   "source": [
    "import os\n",
    "import sys\n",
    "\n",
    "sys.path.append(os.environ['HOME'] + '/programs') # adding path to the polyhedron_distortion\n",
    "import polyhedron_distortion.polyhedron_analysis as poly"
   ]
  },
  {
   "cell_type": "code",
   "execution_count": 18,
   "id": "0fc89503",
   "metadata": {},
   "outputs": [
    {
     "name": "stdout",
     "output_type": "stream",
     "text": [
      "#Eg, T2g, T1u, T2u\n",
      "[1.84889275e-32 0.00000000e+00 0.00000000e+00 0.00000000e+00]\n"
     ]
    }
   ],
   "source": [
    "print('#Eg, T2g, T1u, T2u')\n",
    "print(poly.calc_distortions_from_struct_octahedron(struct, 1))"
   ]
  },
  {
   "cell_type": "code",
   "execution_count": null,
   "id": "2cbef499-d1b1-471f-9af6-d37e2a9b33be",
   "metadata": {},
   "outputs": [],
   "source": []
  }
 ],
 "metadata": {
  "kernelspec": {
   "display_name": "Python 3 (ipykernel)",
   "language": "python",
   "name": "python3"
  },
  "language_info": {
   "codemirror_mode": {
    "name": "ipython",
    "version": 3
   },
   "file_extension": ".py",
   "mimetype": "text/x-python",
   "name": "python",
   "nbconvert_exporter": "python",
   "pygments_lexer": "ipython3",
   "version": "3.8.10"
  }
 },
 "nbformat": 4,
 "nbformat_minor": 5
}
